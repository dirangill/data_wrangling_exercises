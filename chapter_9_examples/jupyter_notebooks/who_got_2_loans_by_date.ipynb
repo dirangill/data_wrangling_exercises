{
 "cells": [
  {
   "cell_type": "code",
   "execution_count": null,
   "metadata": {},
   "outputs": [],
   "source": [
    "# import pandas for data loading/transformations\n",
    "import pandas as pd\n",
    "# import seaborn for visualization\n",
    "import seaborn as sns\n",
    "# import matplotlib for visualization support\n",
    "import matplotlib.pyplot as plt\n",
    "# import numpy for manipulating arrays/lists\n",
    "import numpy as np\n",
    "%matplotlib notebook"
   ]
  },
  {
   "cell_type": "code",
   "execution_count": null,
   "metadata": {},
   "outputs": [],
   "source": [
    "# # UNCOMMENT BELOW TO USE WITH GOOGLE COLAB\n",
    "# # Import PyDrive and associated libraries.\n",
    "# # This only needs to be done once per notebook.\n",
    "# # Documentation found here: https://colab.research.google.com/notebooks/io.ipynb#scrollTo=7taylj9wpsA2\n",
    "# from pydrive.auth import GoogleAuth\n",
    "# from pydrive.drive import GoogleDrive\n",
    "# from google.colab import auth\n",
    "# from oauth2client.client import GoogleCredentials\n",
    "\n",
    "# # Authenticate and create the PyDrive client.\n",
    "# # This only needs to be done once per notebook.\n",
    "# auth.authenticate_user()\n",
    "# gauth = GoogleAuth()\n",
    "# gauth.credentials = GoogleCredentials.get_application_default()\n",
    "# drive = GoogleDrive(gauth)"
   ]
  },
  {
   "cell_type": "code",
   "execution_count": null,
   "metadata": {},
   "outputs": [],
   "source": [
    "# # UNCOMMENT BELOW TO USE WITH GOOGLE COLAB\n",
    "# # Link to data file stored in Drive: https://drive.google.com/file/d/1LMT6tf33HU7PUWJOChcquNcR3adTvy6a/view?usp=sharing\n",
    "# file_id = '1LMT6tf33HU7PUWJOChcquNcR3adTvy6a' # notice where this string comes from in link above\n",
    "\n",
    "# imported_file = drive.CreateFile({'id': file_id}) # creating an accessible copy of the shared data file\n",
    "# print(imported_file['title'])  # it should print the title of desired file\n",
    "# imported_file.GetContentFile(imported_file['title']) # refer to it in this notebook by the same name as it has in Drive"
   ]
  },
  {
   "cell_type": "code",
   "execution_count": null,
   "metadata": {},
   "outputs": [],
   "source": [
    "# load our data\n",
    "ppp_data = pd.read_csv('public_150k_plus_borrower_fingerprint_a.csv')"
   ]
  },
  {
   "cell_type": "code",
   "execution_count": null,
   "metadata": {},
   "outputs": [],
   "source": [
    "# we know that second-round loans were only available after January 13, 2021\n",
    "# so we're going to create a new column from the date, labeling loans as\n",
    "# `first_round` or `maybe_second`\n",
    "\n",
    "# convert the `DateApproved` column to an actual datetime data type\n",
    "ppp_data['DateApproved'] = pd.to_datetime(ppp_data['DateApproved'])"
   ]
  },
  {
   "cell_type": "code",
   "execution_count": null,
   "metadata": {},
   "outputs": [],
   "source": [
    "# the pandas `cut()` function let's us define the boundaries and labels\n",
    "# of our new column based on values in the originating column\n",
    "# first boundary will be 1/13/21, since we know all loans before that date\n",
    "# *must* be first-round loans\n",
    "second_round_start =  pd.to_datetime('2021-01-13')"
   ]
  },
  {
   "cell_type": "code",
   "execution_count": null,
   "metadata": {},
   "outputs": [],
   "source": [
    "# get today's date to use as the \"upper\" limit on possible second-round loans\n",
    "todays_date = pd.to_datetime('today')\n",
    "\n",
    "# use 1/1/2020 as the \"lower\" limit, since the PPP wasn't announced until spring\n",
    "program_start = pd.to_datetime('2020-01-01')\n",
    "\n",
    "# pass our boundaries and category labels to the pandas `cut()` function\n",
    "loan_round = pd.cut(ppp_data.DateApproved, bins=[program_start,second_round_start, todays_date], labels=['first_round', 'maybe_second'])"
   ]
  },
  {
   "cell_type": "code",
   "execution_count": null,
   "metadata": {},
   "outputs": [],
   "source": [
    "# now insert the new row we created at the position we specify\n",
    "ppp_data.insert(2,'Loan Round',loan_round)"
   ]
  },
  {
   "cell_type": "code",
   "execution_count": null,
   "metadata": {},
   "outputs": [],
   "source": [
    "# of course, it was still possible to get a first round loan after 1/13/2021 -\n",
    "# as long as you hadn't gotten one before. So we need to know how many loans\n",
    "# a business has been approved for in order  to draw conclusions about\n",
    "# the volume of their first and second loans\n",
    "\n",
    "# this is a basic pivot table, which will return a Series showing the number\n",
    "# of times a particular 'BorrowerNameFingerprint' appears in the data set\n",
    "loan_count = ppp_data.pivot_table(index=['BorrowerNameFingerprint'], aggfunc='size')\n",
    "\n",
    "# we need to convert our Series to a DataFrame and give it a name...\n",
    "loan_count_df = loan_count.to_frame('Loan Count')"
   ]
  },
  {
   "cell_type": "code",
   "execution_count": null,
   "metadata": {},
   "outputs": [],
   "source": [
    "# use the `describe()` method to generate summary statistics in a single step\n",
    "# the key thing here is we would expect the maximum number of loans to be 2\n",
    "print(\"Description of duplicate borrower table:\")\n",
    "print(loan_count_df.describe())"
   ]
  },
  {
   "cell_type": "code",
   "execution_count": null,
   "metadata": {},
   "outputs": [],
   "source": [
    "# Whoops! Let's look at the businesses that have more(?) than two loans?\n",
    "sorted_loan_counts = loan_count_df.sort_values(by=['Loan Count'], ascending=False)\n",
    "more_than_two = sorted_loan_counts[sorted_loan_counts['Loan Count'] > 2]\n",
    "\n",
    "# print the 'unique' businesses\n",
    "print(\"Businesses that seem to have gotten more than 2 loans:\")\n",
    "print(more_than_two.shape)\n",
    "\n",
    "print(\"Number of businesses that appear to have gotten precisely 2 loans:\")\n",
    "precisely_two = sorted_loan_counts[sorted_loan_counts['Loan Count'] == 2]\n",
    "print(precisely_two.shape)"
   ]
  },
  {
   "cell_type": "code",
   "execution_count": null,
   "metadata": {},
   "outputs": [],
   "source": [
    "# let's use the `ProcessingMethod` value to identify definitively which\n",
    "# were first and which were second round loans!\n",
    "# https://data.sba.gov/dataset/ppp-foia/resource/aab8e9f9-36d1-42e1-b3ba-e59c79f1d7f0\n",
    "pps_loans = ppp_data[ppp_data['ProcessingMethod'] == 'PPS']\n",
    "\n",
    "# print out the `shape` of this DataFrame to see how many businesses we have\n",
    "print(\"Number of loans labeled as second draw:\")\n",
    "print(pps_loans.shape)"
   ]
  },
  {
   "cell_type": "code",
   "execution_count": null,
   "metadata": {},
   "outputs": [],
   "source": [
    "# how many loans in our derived data frame were approved for precisely $2M\n",
    "# during the (possibly) second draw timeframe?\n",
    "\n",
    "# first, merge our \"Loan Count\" DataFrame back onto our original data set,\n",
    "# so we can pull all loans that have a Loan Count of 2\n",
    "ppp_data_w_lc = pd.merge(ppp_data, loan_count_df, on=['BorrowerNameFingerprint'], how='left')"
   ]
  },
  {
   "cell_type": "code",
   "execution_count": null,
   "metadata": {},
   "outputs": [],
   "source": [
    "# now get *all* the loans that have a Loan Count of 2\n",
    "matched_two_loans = ppp_data_w_lc[(ppp_data_w_lc['Loan Count'] == 2)]"
   ]
  },
  {
   "cell_type": "code",
   "execution_count": null,
   "metadata": {},
   "outputs": [],
   "source": [
    "# select those loans that we think are second round and have a value of $2M\n",
    "# maybe_round2_2M = matched_two_loans[(matched_two_loans['CurrentApprovalAmount'] == 2000000.00) & (matched_two_loans['Loan Round'] == 'maybe_second')]\n",
    "maybe_round2_2M = matched_two_loans[(matched_two_loans['CurrentApprovalAmount'] == 2000000.00) & (matched_two_loans['Loan Round'] == 'maybe_second')]\n",
    "print(\"Derived $2M second-round loans:\")\n",
    "print(maybe_round2_2M.shape)"
   ]
  },
  {
   "cell_type": "code",
   "execution_count": null,
   "metadata": {},
   "outputs": [],
   "source": [
    "# select those loans that we *know* are second round and have a value of $2M\n",
    "pps_got_2M = pps_loans[pps_loans['CurrentApprovalAmount'] == 2000000.00]\n",
    "print(\"Actual $2M second-round loans:\")\n",
    "print(pps_got_2M.shape)"
   ]
  }
 ],
 "metadata": {
  "kernelspec": {
   "display_name": "Python 3",
   "language": "python",
   "name": "python3"
  },
  "language_info": {
   "codemirror_mode": {
    "name": "ipython",
    "version": 3
   },
   "file_extension": ".py",
   "mimetype": "text/x-python",
   "name": "python",
   "nbconvert_exporter": "python",
   "pygments_lexer": "ipython3",
   "version": "3.8.3"
  }
 },
 "nbformat": 4,
 "nbformat_minor": 4
}

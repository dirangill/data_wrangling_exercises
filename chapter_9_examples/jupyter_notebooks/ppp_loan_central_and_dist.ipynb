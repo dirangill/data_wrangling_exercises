{
 "cells": [
  {
   "cell_type": "code",
   "execution_count": null,
   "metadata": {},
   "outputs": [],
   "source": [
    "# we'll use pandas to read in our data\n",
    "import pandas as pd\n",
    "# the seaborn library offers us some nice built-in themes and chart types\n",
    "import seaborn as sns\n",
    "# matplotlib is the foundational library for Python visualization\n",
    "import matplotlib.pyplot as plt\n",
    "%matplotlib notebook"
   ]
  },
  {
   "cell_type": "code",
   "execution_count": null,
   "metadata": {},
   "outputs": [],
   "source": [
    "# # UNCOMMENT BELOW TO USE WITH GOOGLE COLAB\n",
    "# # Import PyDrive and associated libraries.\n",
    "# # This only needs to be done once per notebook.\n",
    "# # Documentation found here: https://colab.research.google.com/notebooks/io.ipynb#scrollTo=7taylj9wpsA2\n",
    "# from pydrive.auth import GoogleAuth\n",
    "# from pydrive.drive import GoogleDrive\n",
    "# from google.colab import auth\n",
    "# from oauth2client.client import GoogleCredentials\n",
    "\n",
    "# # Authenticate and create the PyDrive client.\n",
    "# # This only needs to be done once per notebook.\n",
    "# auth.authenticate_user()\n",
    "# gauth = GoogleAuth()\n",
    "# gauth.credentials = GoogleCredentials.get_application_default()\n",
    "# drive = GoogleDrive(gauth)"
   ]
  },
  {
   "cell_type": "code",
   "execution_count": null,
   "metadata": {},
   "outputs": [],
   "source": [
    "# # UNCOMMENT BELOW TO USE WITH GOOGLE COLAB\n",
    "# # Link to data file stored in Drive: https://drive.google.com/file/d/15RvMf3oWQsb62H2pY7frRzk5-VtZ9c61/view?usp=sharing\n",
    "# file_id = '15RvMf3oWQsb62H2pY7frRzk5-VtZ9c61' # notice where this string comes from in link above\n",
    "\n",
    "# imported_file = drive.CreateFile({'id': file_id}) # creating an accessible copy of the shared data file\n",
    "# print(imported_file['title'])  # it should print the title of desired file\n",
    "# imported_file.GetContentFile(imported_file['title']) # refer to it in this notebook by the same name as it has in Drive"
   ]
  },
  {
   "cell_type": "code",
   "execution_count": null,
   "metadata": {},
   "outputs": [],
   "source": [
    "# read in our data\n",
    "ppp_data = pd.read_csv('public_150k_plus_221.csv')"
   ]
  },
  {
   "cell_type": "code",
   "execution_count": null,
   "metadata": {},
   "outputs": [],
   "source": [
    "# set a basic color theme for our visualization\n",
    "sns.set_theme(style=\"whitegrid\")\n",
    "\n",
    "# the `CurrentApprovalAmount` column in our PPP data tells us the dollar amount\n",
    "# of each loan that is currently approved (whether or not it has been disbursed)\n",
    "\n",
    "# we can use pandas' built-in `mean()` and `median()` methods to caculate\n",
    "# these values\n",
    "mean=ppp_data['CurrentApprovalAmount'].mean()\n",
    "median=ppp_data['CurrentApprovalAmount'].median()"
   ]
  },
  {
   "cell_type": "code",
   "execution_count": null,
   "metadata": {},
   "outputs": [],
   "source": [
    "# Q1 is the value at the position in our data set that has 25% of data readings\n",
    "# to its left\n",
    "Q1 = ppp_data['CurrentApprovalAmount'].quantile(0.25)\n",
    "\n",
    "# Q3 is the value at the position in our data set that has 75% of data readings\n",
    "# to its left\n",
    "Q3 = ppp_data['CurrentApprovalAmount'].quantile(0.75)\n",
    "\n",
    "# IQR is the difference between the Q3 and Q1 values\n",
    "IQR = Q3-Q1\n",
    "\n",
    "# and now we calculate our lower and upper bounds\n",
    "lower_bound = Q1 - (1.5*IQR)\n",
    "upper_bound = Q3 + (1.5*IQR)"
   ]
  },
  {
   "cell_type": "code",
   "execution_count": null,
   "metadata": {
    "scrolled": true
   },
   "outputs": [],
   "source": [
    "# now we'll use seaborn to plot the histogram\n",
    "approved_loan_plot = sns.histplot(data=ppp_data, x=\"CurrentApprovalAmount\")\n",
    "\n",
    "# use `get_ylim()` to find the current height of the chart\n",
    "y_axis_range = approved_loan_plot.get_ylim()\n",
    "\n",
    "# add the vertical lines - including the mean to see how its position\n",
    "# compares to our median & quartile-based values\n",
    "\n",
    "# mean line in gray\n",
    "approved_loan_plot.vlines(mean, 0, y_axis_range[1], color='gray', ls='-')\n",
    "\n",
    "# other lines in black (median solid, others dotted)\n",
    "approved_loan_plot.vlines(median, 0, y_axis_range[1], color='black', ls='-')\n",
    "approved_loan_plot.vlines(lower_bound, 0, y_axis_range[1], color='black', ls=':')\n",
    "approved_loan_plot.vlines(Q1, 0, y_axis_range[1], color='black', ls=':')\n",
    "approved_loan_plot.vlines(Q3, 0, y_axis_range[1], color='black', ls=':')\n",
    "approved_loan_plot.vlines(upper_bound, 0, y_axis_range[1], color='black', ls=':')\n",
    "\n",
    "# the matplotlib `show()` method will pop up an interactive view of our\n",
    "# chart, allowing us to zoom, pan and otherwise explore our histogram\n",
    "plt.show()"
   ]
  }
 ],
 "metadata": {
  "kernelspec": {
   "display_name": "Python 3",
   "language": "python",
   "name": "python3"
  },
  "language_info": {
   "codemirror_mode": {
    "name": "ipython",
    "version": 3
   },
   "file_extension": ".py",
   "mimetype": "text/x-python",
   "name": "python",
   "nbconvert_exporter": "python",
   "pygments_lexer": "ipython3",
   "version": "3.8.3"
  }
 },
 "nbformat": 4,
 "nbformat_minor": 4
}

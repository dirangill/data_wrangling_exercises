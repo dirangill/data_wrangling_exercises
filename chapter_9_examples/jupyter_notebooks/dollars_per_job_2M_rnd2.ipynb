{
 "cells": [
  {
   "cell_type": "code",
   "execution_count": null,
   "metadata": {},
   "outputs": [],
   "source": [
    "# import pandas for data loading/transformations\n",
    "import pandas as pd\n",
    "# import seaborn for visualization\n",
    "import seaborn as sns\n",
    "# import matplotlib for visualization support\n",
    "import matplotlib.pyplot as plt\n",
    "# import numpy for manipulating arrays/lists\n",
    "import numpy as np\n",
    "%matplotlib notebook"
   ]
  },
  {
   "cell_type": "code",
   "execution_count": null,
   "metadata": {},
   "outputs": [],
   "source": [
    "# # UNCOMMENT BELOW TO USE WITH GOOGLE COLAB\n",
    "# # Import PyDrive and associated libraries.\n",
    "# # This only needs to be done once per notebook.\n",
    "# # Documentation found here: https://colab.research.google.com/notebooks/io.ipynb#scrollTo=7taylj9wpsA2\n",
    "# from pydrive.auth import GoogleAuth\n",
    "# from pydrive.drive import GoogleDrive\n",
    "# from google.colab import auth\n",
    "# from oauth2client.client import GoogleCredentials\n",
    "\n",
    "# # Authenticate and create the PyDrive client.\n",
    "# # This only needs to be done once per notebook.\n",
    "# auth.authenticate_user()\n",
    "# gauth = GoogleAuth()\n",
    "# gauth.credentials = GoogleCredentials.get_application_default()\n",
    "# drive = GoogleDrive(gauth)"
   ]
  },
  {
   "cell_type": "code",
   "execution_count": null,
   "metadata": {},
   "outputs": [],
   "source": [
    "# # UNCOMMENT BELOW TO USE WITH GOOGLE COLAB\n",
    "# # Link to data file stored in Drive: https://drive.google.com/file/d/1LMT6tf33HU7PUWJOChcquNcR3adTvy6a/view?usp=sharing\n",
    "# file_id = '1LMT6tf33HU7PUWJOChcquNcR3adTvy6a' # notice where this string comes from in link above\n",
    "\n",
    "# imported_file = drive.CreateFile({'id': file_id}) # creating an accessible copy of the shared data file\n",
    "# print(imported_file['title'])  # it should print the title of desired file\n",
    "# imported_file.GetContentFile(imported_file['title']) # refer to it in this notebook by the same name as it has in Drive"
   ]
  },
  {
   "cell_type": "code",
   "execution_count": null,
   "metadata": {},
   "outputs": [],
   "source": [
    "# load our data\n",
    "ppp_data = pd.read_csv('public_150k_plus_borrower_fingerprint_a.csv')"
   ]
  },
  {
   "cell_type": "code",
   "execution_count": null,
   "metadata": {},
   "outputs": [],
   "source": [
    "# first, sanity-check our data\n",
    "print(ppp_data[ppp_data['JobsReported'] <= 0])"
   ]
  },
  {
   "cell_type": "code",
   "execution_count": null,
   "metadata": {},
   "outputs": [],
   "source": [
    "# what do you know? a couple of businesses didn't report *any* jobs\n",
    "# let's ditch those two for now (remember: axis 0 is rows), and the \"labels\"\n",
    "# in this case are the ones assigned by pandas, shown all the way to the left\n",
    "# in our output\n",
    "ppp_data.drop(labels=[437083,765398], axis=0)"
   ]
  },
  {
   "cell_type": "code",
   "execution_count": null,
   "metadata": {},
   "outputs": [],
   "source": [
    "# now, calculate the dollars per job\n",
    "dollars_per_job = ppp_data['CurrentApprovalAmount']/ppp_data['JobsReported']\n",
    "\n",
    "# add the new column back into our original data set\n",
    "ppp_data.insert(3, 'Dollars per Job', dollars_per_job)"
   ]
  },
  {
   "cell_type": "code",
   "execution_count": null,
   "metadata": {},
   "outputs": [],
   "source": [
    "# let's use the `ProcessingMethod` value to identify definitively which\n",
    "# were second round loans\n",
    "pps_loans = ppp_data[ppp_data['ProcessingMethod'] == 'PPS']\n",
    "\n",
    "# select those loans that we *know* are second round and have a value of $2M\n",
    "pps_got_2M = pps_loans[pps_loans['CurrentApprovalAmount'] == 2000000.00]\n",
    "print(\"Actual $2M second-round loans:\")\n",
    "print(pps_got_2M.shape)"
   ]
  },
  {
   "cell_type": "code",
   "execution_count": null,
   "metadata": {},
   "outputs": [],
   "source": [
    "# isolate the fingerprints of businesses that got $2M second-draw loans approved\n",
    "biz_names = pd.unique(pps_got_2M['BorrowerNameFingerprint'])\n",
    "\n",
    "# convert that list to a DataFrame\n",
    "biz_names_df = pd.DataFrame(biz_names, columns=['BorrowerNameFingerprint'])\n",
    "\n",
    "# create a new array of the same length as our biz_names_df and fill with\n",
    "# a flag value\n",
    "fill_column = np.full((len(biz_names),1), '2Mil2ndRnd')\n",
    "biz_names_df['GotSecond'] = fill_column"
   ]
  },
  {
   "cell_type": "code",
   "execution_count": null,
   "metadata": {},
   "outputs": [],
   "source": [
    "# now merge this new, two-column DataFrame back onto our full_data list,\n",
    "# so that we (hopefully) find their first-round loans as well\n",
    "second_round_max = pd.merge(ppp_data, biz_names_df, on='BorrowerNameFingerprint')"
   ]
  },
  {
   "cell_type": "code",
   "execution_count": null,
   "metadata": {},
   "outputs": [],
   "source": [
    "# now all the loans that share fingerprints with the ones that got the max\n",
    "# amount in the second round should have the flag value '2Mil2ndRnd' in the\n",
    "# 'GotSecond' column\n",
    "second_max_all_loans = second_round_max[second_round_max['GotSecond'] == '2Mil2ndRnd']"
   ]
  },
  {
   "cell_type": "code",
   "execution_count": null,
   "metadata": {},
   "outputs": [],
   "source": [
    "# we expect this to be twice the number of businesses that received $2M\n",
    "# second-round loans\n",
    "print('Total # of loans approved for most orgs that got $2M for second draw:')\n",
    "print(second_max_all_loans.shape)"
   ]
  },
  {
   "cell_type": "code",
   "execution_count": null,
   "metadata": {},
   "outputs": [],
   "source": [
    "# how much money were these businesses approved to get from the PPP, total?\n",
    "total_funds = second_max_all_loans['CurrentApprovalAmount'].sum()\n",
    "print(\"Total funds approved for identified orgs that could have second-draw max:\")\n",
    "print(total_funds)"
   ]
  },
  {
   "cell_type": "code",
   "execution_count": null,
   "metadata": {},
   "outputs": [],
   "source": [
    "# now, let's plot that new column on our selected data set\n",
    "\n",
    "# set the seaborn theme\n",
    "sns.set_theme(style=\"whitegrid\")\n",
    "\n",
    "# to create charts side-by-side, we'll use the matplotlib `subplots()` method\n",
    "# use tuples to access the different subplots later\n",
    "fig, ((row1col1)) = plt.subplots(nrows=1, ncols=1)\n",
    "\n",
    "# plot the histogram of our date-based analysis\n",
    "date_based = sns.histplot(data=second_max_all_loans, x='Dollars per Job', hue='ProcessingMethod', ax=row1col1)\n",
    "\n",
    "plt.show()"
   ]
  }
 ],
 "metadata": {
  "kernelspec": {
   "display_name": "Python 3",
   "language": "python",
   "name": "python3"
  },
  "language_info": {
   "codemirror_mode": {
    "name": "ipython",
    "version": 3
   },
   "file_extension": ".py",
   "mimetype": "text/x-python",
   "name": "python",
   "nbconvert_exporter": "python",
   "pygments_lexer": "ipython3",
   "version": "3.8.3"
  }
 },
 "nbformat": 4,
 "nbformat_minor": 4
}

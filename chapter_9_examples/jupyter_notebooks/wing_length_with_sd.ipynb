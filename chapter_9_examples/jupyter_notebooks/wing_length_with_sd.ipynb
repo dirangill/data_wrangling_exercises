{
 "cells": [
  {
   "cell_type": "code",
   "execution_count": null,
   "metadata": {},
   "outputs": [],
   "source": [
    "# we'll use pandas to read in our data\n",
    "import pandas as pd\n",
    "# the seaborn library offers us some nice built-in themes and chart types\n",
    "import seaborn as sns\n",
    "# matplotlib is the foundational library for Python visualization\n",
    "import matplotlib.pyplot as plt\n",
    "# the statistics library has built-in functions for many statistical measures\n",
    "import statistics"
   ]
  },
  {
   "cell_type": "code",
   "execution_count": null,
   "metadata": {},
   "outputs": [],
   "source": [
    "# # UNCOMMENT BELOW TO USE WITH GOOGLE COLAB\n",
    "# # Import PyDrive and associated libraries.\n",
    "# # This only needs to be done once per notebook.\n",
    "# # Documentation found here: https://colab.research.google.com/notebooks/io.ipynb#scrollTo=7taylj9wpsA2\n",
    "# from pydrive.auth import GoogleAuth\n",
    "# from pydrive.drive import GoogleDrive\n",
    "# from google.colab import auth\n",
    "# from oauth2client.client import GoogleCredentials\n",
    "\n",
    "# # Authenticate and create the PyDrive client.\n",
    "# # This only needs to be done once per notebook.\n",
    "# auth.authenticate_user()\n",
    "# gauth = GoogleAuth()\n",
    "# gauth.credentials = GoogleCredentials.get_application_default()\n",
    "# drive = GoogleDrive(gauth)"
   ]
  },
  {
   "cell_type": "code",
   "execution_count": null,
   "metadata": {},
   "outputs": [],
   "source": [
    "# # UNCOMMENT BELOW TO USE WITH GOOGLE COLAB\n",
    "# # Link to data file stored in Drive: https://drive.google.com/file/d/1tvDRmZH379BhRwkZn0mU50zFlrTGHSX8/view?usp=sharing\n",
    "# file_id = '1tvDRmZH379BhRwkZn0mU50zFlrTGHSX8' # notice where this string comes from in link above\n",
    "\n",
    "# imported_file = drive.CreateFile({'id': file_id}) # creating an accessible copy of the shared data file\n",
    "# print(imported_file['title'])  # it should print the title of desired file\n",
    "# imported_file.GetContentFile(imported_file['title']) # refer to it in this notebook by the same name as it has in Drive"
   ]
  },
  {
   "cell_type": "code",
   "execution_count": null,
   "metadata": {},
   "outputs": [],
   "source": [
    "# read in our data\n",
    "wing_data = pd.read_csv('wing_length - s057.csv')\n",
    "\n",
    "# set a basic color theme for our visualization\n",
    "sns.set_theme(style=\"white\")"
   ]
  },
  {
   "cell_type": "code",
   "execution_count": null,
   "metadata": {},
   "outputs": [],
   "source": [
    "# create the histogram, allowing seaborn to choose default bin values\n",
    "# the `kde` parameter let's us add a smoothed line to our visualization,\n",
    "# which approximates the pattern we would expect if we had infinite data points\n",
    "wing_plot = sns.histplot(data=wing_data, x=\"wing_length (0.1mm)\", kde=\"True\")\n",
    "\n",
    "# here we use the statistics library's `stdev` method, though we could also use\n",
    "# pandas: pd_value = wing_data['wing_length (0.1mm)'].std()\n",
    "sd = statistics.stdev(wing_data['wing_length (0.1mm)'])\n",
    "\n",
    "# time to plot some lines!\n",
    "\n",
    "# get the max y value, to assign the line height\n",
    "y_axis_range = wing_plot.get_ylim()\n",
    "\n",
    "# plot the mean as a solid line\n",
    "mean=wing_data['wing_length (0.1mm)'].mean()\n",
    "wing_plot.vlines(mean, 0, y_axis_range[1], color='gray', ls='-')\n",
    "\n",
    "# plot the three standard deviation boundary lines on either side of the mean\n",
    "# recall that the loop stops *before* the higher value in `range()`\n",
    "# starting with a negative number means we actually subtract from the mean\n",
    "# at first\n",
    "for i in range(-3,4):\n",
    "    # find the current boundary value\n",
    "    boundary_value = mean + (i*sd)\n",
    "    # don't draw a second line over the mean line\n",
    "    if boundary_value != mean:\n",
    "        # plot a dotted gray line at each boundary value\n",
    "        wing_plot.vlines(boundary_value, 0, y_axis_range[1], color='gray', ls=':')\n",
    "\n",
    "# show the plot!\n",
    "plt.show()"
   ]
  }
 ],
 "metadata": {
  "kernelspec": {
   "display_name": "Python 3",
   "language": "python",
   "name": "python3"
  },
  "language_info": {
   "codemirror_mode": {
    "name": "ipython",
    "version": 3
   },
   "file_extension": ".py",
   "mimetype": "text/x-python",
   "name": "python",
   "nbconvert_exporter": "python",
   "pygments_lexer": "ipython3",
   "version": "3.8.3"
  }
 },
 "nbformat": 4,
 "nbformat_minor": 4
}

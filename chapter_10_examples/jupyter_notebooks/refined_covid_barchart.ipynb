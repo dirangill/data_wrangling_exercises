{
 "cells": [
  {
   "cell_type": "code",
   "execution_count": null,
   "metadata": {},
   "outputs": [],
   "source": [
    "import pandas as pd\n",
    "import seaborn as sns\n",
    "import matplotlib.pyplot as plt\n",
    "from matplotlib.ticker import FuncFormatter\n",
    "from matplotlib.dates import DateFormatter\n",
    "from datetime import datetime\n",
    "import numpy as np"
   ]
  },
  {
   "cell_type": "code",
   "execution_count": null,
   "metadata": {},
   "outputs": [],
   "source": [
    "# # UNCOMMENT BELOW TO USE WITH GOOGLE COLAB\n",
    "# # Import PyDrive and associated libraries.\n",
    "# # This only needs to be done once per notebook.\n",
    "# # Documentation found here: https://colab.research.google.com/notebooks/io.ipynb#scrollTo=7taylj9wpsA2\n",
    "# from pydrive.auth import GoogleAuth\n",
    "# from pydrive.drive import GoogleDrive\n",
    "# from google.colab import auth\n",
    "# from oauth2client.client import GoogleCredentials\n",
    "\n",
    "# # Authenticate and create the PyDrive client.\n",
    "# # This only needs to be done once per notebook.\n",
    "# auth.authenticate_user()\n",
    "# gauth = GoogleAuth()\n",
    "# gauth.credentials = GoogleCredentials.get_application_default()\n",
    "# drive = GoogleDrive(gauth)"
   ]
  },
  {
   "cell_type": "code",
   "execution_count": null,
   "metadata": {},
   "outputs": [],
   "source": [
    "# # UNCOMMENT BELOW TO USE WITH GOOGLE COLAB\n",
    "# # Link to data file stored in Drive: https://drive.google.com/file/d/1ad294MH3JGBVUzWtNW32m--1HL4lgmJQ/view?usp=sharing\n",
    "# file_id = '1ad294MH3JGBVUzWtNW32m--1HL4lgmJQ' # notice where this string comes from in link above\n",
    "\n",
    "# imported_file = drive.CreateFile({'id': file_id}) # creating an accessible copy of the shared data file\n",
    "# print(imported_file['title'])  # it should print the title of desired file\n",
    "# imported_file.GetContentFile(imported_file['title']) # refer to it in this notebook by the same name as it has in Drive"
   ]
  },
  {
   "cell_type": "code",
   "execution_count": null,
   "metadata": {},
   "outputs": [],
   "source": [
    "vaccine_data = pd.read_csv('owid-covid-data.csv')\n",
    "vaccine_data['date']= pd.to_datetime(vaccine_data['date'])\n",
    "country_and_month = vaccine_data.groupby('iso_code').resample('M', on='date').sum()\n",
    "country_and_month_update = country_and_month.reset_index()\n",
    "just_USA = country_and_month_update[country_and_month_update['iso_code']=='USA']"
   ]
  },
  {
   "cell_type": "code",
   "execution_count": null,
   "metadata": {},
   "outputs": [],
   "source": [
    "ax = sns.barplot(x=\"date\", y=\"new_cases\", palette=['grey'], data=just_USA)\n",
    "plt.show()"
   ]
  },
  {
   "cell_type": "code",
   "execution_count": null,
   "metadata": {},
   "outputs": [],
   "source": [
    "def millions(val, pos):\n",
    "    # the two arguments are the value and tick position\n",
    "    modified_val = val*1e-6\n",
    "    formatted_val = str(modified_val)\n",
    "    if val == ax.get_ylim()[1]:\n",
    "        formatted_val = formatted_val+'M'\n",
    "    if val == 0:\n",
    "        formatted_val = \"0\"\n",
    "    return formatted_val\n",
    "    #return '$%1.1fM' % (val*1e-6)\n",
    "\n",
    "def custom_dates(val,pos):\n",
    "    dates_list = just_USA.date.tolist()\n",
    "    current_value = dates_list[pos]\n",
    "    current_month = datetime.strftime(current_value, '%b')\n",
    "    date_label = current_month\n",
    "    if date_label == 'Jan':\n",
    "        date_label = date_label + \" '\"+ datetime.strftime(current_value, '%y')\n",
    "    return date_label\n",
    "\n",
    "y_formatter = FuncFormatter(millions)\n",
    "x_formatter = FuncFormatter(custom_dates)\n",
    "\n",
    "# using a seaborn theme will make customization harder, so skip it\n",
    "#sns.set_theme(style=\"whitegrid\")\n",
    "# make a barplot\n",
    "ax = sns.barplot(x=\"date\", y=\"new_cases\", palette=['grey'], data=just_USA)\n",
    "\n",
    "for i,bar in enumerate(ax.patches):\n",
    "    if i == 6:\n",
    "        bar.set_color('red')\n",
    "\n",
    "ax.set_ylim(0,7000000)\n",
    "\n",
    "# setting axis labels\n",
    "plt.xlabel('Month')\n",
    "plt.ylabel('New cases (M)')\n",
    "\n",
    "# if you want to use rcParams, you need to use them *before* tick_params\n",
    "# rcParams is the interactive version of a matplotlib stylesheet\n",
    "# https://matplotlib.org/stable/tutorials/introductory/customizing.html\n",
    "\n",
    "plt.rcParams['xtick.bottom'] = False\n",
    "\n",
    "# manipulate the axis attributes\n",
    "# https://matplotlib.org/stable/api/_as_gen/matplotlib.axes.Axes.tick_params.html\n",
    "\n",
    "ax.tick_params(direction='out', length=10, width=1, color='black', colors='black',pad=4, grid_color='black', grid_alpha=1, rotation=45)\n",
    "\n",
    "# apply custom number formatter to y axis\n",
    "ax.yaxis.set_major_formatter(y_formatter)\n",
    "ax.xaxis.set_major_formatter(x_formatter)\n",
    "\n",
    "\n",
    "# by default, this is in \"data coordinates\"; e.g. a value of 1 will left-align the start\n",
    "# of the text with the center point of the first (in this case) column.\n",
    "# https://matplotlib.org/stable/api/_as_gen/matplotlib.pyplot.text.html\n",
    "# also, the \"y\" value is the bottom of the text, including multi-line text\n",
    "ax.text(4,3000000, \"Confirmed cases\\noften lag infection\\nby several weeks.\");\n",
    "\n",
    "bar_value = just_USA.new_cases.tolist()\n",
    "ax.vlines( x = 6, color='black', linewidth=1, alpha=.7, \n",
    "                         ymin = bar_value[6]+100000, ymax = 3000000-100000);\n",
    "\n",
    "# ha! It uses LaTeX for text layout and mainpulation\n",
    "# https://matplotlib.org/2.0.2/users/usetex.html\n",
    "# plt.rc('text', usetex=True)\n",
    "# plt.title(r\"\\textbf{Something}, but then also\\\\ something else\")\n",
    "# the following titles overwrite each other - seaborn uses matplotlib under the hood\n",
    "plt.title(\"COVID-19 cases spike following relaxed restrictions\\nin the spring of 2020\", fontweight=\"bold\")\n",
    "# ax.set_title('COVID-19 cases spike following relaxed restrictions in the spring of 2020');\n",
    "\n",
    "plt.show()"
   ]
  }
 ],
 "metadata": {
  "kernelspec": {
   "display_name": "Python 3",
   "language": "python",
   "name": "python3"
  },
  "language_info": {
   "codemirror_mode": {
    "name": "ipython",
    "version": 3
   },
   "file_extension": ".py",
   "mimetype": "text/x-python",
   "name": "python",
   "nbconvert_exporter": "python",
   "pygments_lexer": "ipython3",
   "version": "3.8.3"
  }
 },
 "nbformat": 4,
 "nbformat_minor": 4
}

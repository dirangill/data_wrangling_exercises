{
 "cells": [
  {
   "cell_type": "code",
   "execution_count": null,
   "metadata": {},
   "outputs": [],
   "source": [
    "import matplotlib.pyplot as plt\n",
    "\n",
    "# matplotlib works counter-clockwise, so we need to essentially reverse the order of our pie-value \"slices\"\n",
    "candidate_names = ['Adams', 'Wiley', 'Garcia', 'Yang', 'Others']\n",
    "candidate_names.reverse()\n",
    "vote_pct = [30.8, 21.3, 19.6, 12.2, 16.1]\n",
    "vote_pct.reverse()\n",
    "\n",
    "colors = ['#edf8e9','#bae4b3','#74c476','#31a354','#006d2c']\n",
    "\n",
    "fig1, ax1 = plt.subplots()\n",
    "# by default, the starting axis is the x-axis; making this value 90 ensures that it is a vertical line instead\n",
    "ax1.pie(vote_pct, labels=candidate_names, autopct='%1.1f%%', startangle=90, colors=colors)\n",
    "ax1.axis('equal')  # Equal aspect ratio ensures that pie is drawn as a circle.\n",
    "\n",
    "plt.show()"
   ]
  }
 ],
 "metadata": {
  "kernelspec": {
   "display_name": "Python 3",
   "language": "python",
   "name": "python3"
  },
  "language_info": {
   "codemirror_mode": {
    "name": "ipython",
    "version": 3
   },
   "file_extension": ".py",
   "mimetype": "text/x-python",
   "name": "python",
   "nbconvert_exporter": "python",
   "pygments_lexer": "ipython3",
   "version": "3.8.3"
  }
 },
 "nbformat": 4,
 "nbformat_minor": 4
}
